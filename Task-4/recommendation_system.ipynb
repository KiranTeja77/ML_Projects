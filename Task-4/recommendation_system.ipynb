{
 "cells": [
  {
   "cell_type": "code",
   "execution_count": 10,
   "id": "82e36728",
   "metadata": {},
   "outputs": [],
   "source": [
    "import pandas as pd\n",
    "from sklearn.metrics.pairwise import cosine_similarity\n",
    "from sklearn.preprocessing import StandardScaler"
   ]
  },
  {
   "cell_type": "code",
   "execution_count": 11,
   "id": "604ae0b6",
   "metadata": {},
   "outputs": [],
   "source": [
    "# 📂 Load sample ratings dataset\n",
    "# You can replace this with your own dataset\n",
    "df = pd.read_csv(\"ratings.csv\")  # Columns: userId, movieId, rating"
   ]
  },
  {
   "cell_type": "code",
   "execution_count": 12,
   "id": "29013a5d",
   "metadata": {},
   "outputs": [],
   "source": [
    "# 🎯 Create user-item matrix (rows = users, cols = movies)\n",
    "user_item_matrix = df.pivot_table(index='userId', columns='movieId', values='rating').fillna(0)"
   ]
  },
  {
   "cell_type": "code",
   "execution_count": 13,
   "id": "5f0fede7",
   "metadata": {},
   "outputs": [],
   "source": [
    "# 🔍 Calculate cosine similarity between items\n",
    "item_similarity = cosine_similarity(user_item_matrix.T)\n",
    "item_similarity_df = pd.DataFrame(item_similarity, index=user_item_matrix.columns, columns=user_item_matrix.columns)"
   ]
  },
  {
   "cell_type": "code",
   "execution_count": 14,
   "id": "8037f335",
   "metadata": {},
   "outputs": [],
   "source": [
    "# 📌 Recommendation function\n",
    "def recommend_movies(movie_id, num_recommendations=5):\n",
    "    if movie_id not in item_similarity_df:\n",
    "        return \"Movie ID not found.\"\n",
    "    similar_scores = item_similarity_df[movie_id].sort_values(ascending=False)[1:num_recommendations+1]\n",
    "    return similar_scores"
   ]
  },
  {
   "cell_type": "code",
   "execution_count": 15,
   "id": "097f9172",
   "metadata": {},
   "outputs": [
    {
     "name": "stdout",
     "output_type": "stream",
     "text": [
      "Top 5 similar movies to movieId: 10\n",
      "movieId\n",
      "50    0.522374\n",
      "40    0.445976\n",
      "20    0.420471\n",
      "30    0.329844\n",
      "Name: 10, dtype: float64\n"
     ]
    }
   ],
   "source": [
    "# 🔄 Example usage\n",
    "print(\"Top 5 similar movies to movieId: 10\")\n",
    "print(recommend_movies(10))"
   ]
  },
  {
   "cell_type": "code",
   "execution_count": null,
   "id": "9369702b",
   "metadata": {},
   "outputs": [],
   "source": []
  }
 ],
 "metadata": {
  "kernelspec": {
   "display_name": "Python 3 (ipykernel)",
   "language": "python",
   "name": "python3"
  },
  "language_info": {
   "codemirror_mode": {
    "name": "ipython",
    "version": 3
   },
   "file_extension": ".py",
   "mimetype": "text/x-python",
   "name": "python",
   "nbconvert_exporter": "python",
   "pygments_lexer": "ipython3",
   "version": "3.11.9"
  }
 },
 "nbformat": 4,
 "nbformat_minor": 5
}
